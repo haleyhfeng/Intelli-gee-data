{
 "cells": [
  {
   "cell_type": "code",
   "execution_count": 71,
   "metadata": {},
   "outputs": [],
   "source": [
    "import numpy as np\n",
    "import pandas as pd\n",
    "import csv\n",
    "import matplotlib.pyplot as plt\n",
    "from statsmodels.tsa.stattools import adfuller\n",
    "from statsmodels.tsa.arima_model import ARIMA\n",
    "from pandas.plotting import autocorrelation_plot\n",
    "from sklearn.metrics import mean_squared_error\n",
    "import csv\n",
    "%matplotlib inline"
   ]
  },
  {
   "cell_type": "code",
   "execution_count": 85,
   "metadata": {
    "scrolled": true
   },
   "outputs": [
    {
     "data": {
      "text/html": [
       "<div>\n",
       "<style scoped>\n",
       "    .dataframe tbody tr th:only-of-type {\n",
       "        vertical-align: middle;\n",
       "    }\n",
       "\n",
       "    .dataframe tbody tr th {\n",
       "        vertical-align: top;\n",
       "    }\n",
       "\n",
       "    .dataframe thead th {\n",
       "        text-align: right;\n",
       "    }\n",
       "</style>\n",
       "<table border=\"1\" class=\"dataframe\">\n",
       "  <thead>\n",
       "    <tr style=\"text-align: right;\">\n",
       "      <th></th>\n",
       "      <th>Time</th>\n",
       "      <th>Temperature</th>\n",
       "      <th>Humidity</th>\n",
       "    </tr>\n",
       "  </thead>\n",
       "  <tbody>\n",
       "    <tr>\n",
       "      <th>654</th>\n",
       "      <td>852.0</td>\n",
       "      <td>20.7</td>\n",
       "      <td>75.4</td>\n",
       "    </tr>\n",
       "    <tr>\n",
       "      <th>626</th>\n",
       "      <td>824.0</td>\n",
       "      <td>20.7</td>\n",
       "      <td>75.2</td>\n",
       "    </tr>\n",
       "    <tr>\n",
       "      <th>249</th>\n",
       "      <td>447.0</td>\n",
       "      <td>20.8</td>\n",
       "      <td>75.2</td>\n",
       "    </tr>\n",
       "    <tr>\n",
       "      <th>1348</th>\n",
       "      <td>1546.0</td>\n",
       "      <td>20.6</td>\n",
       "      <td>75.5</td>\n",
       "    </tr>\n",
       "    <tr>\n",
       "      <th>1608</th>\n",
       "      <td>1806.0</td>\n",
       "      <td>20.7</td>\n",
       "      <td>75.3</td>\n",
       "    </tr>\n",
       "  </tbody>\n",
       "</table>\n",
       "</div>"
      ],
      "text/plain": [
       "        Time  Temperature  Humidity\n",
       "654    852.0         20.7      75.4\n",
       "626    824.0         20.7      75.2\n",
       "249    447.0         20.8      75.2\n",
       "1348  1546.0         20.6      75.5\n",
       "1608  1806.0         20.7      75.3"
      ]
     },
     "execution_count": 85,
     "metadata": {},
     "output_type": "execute_result"
    }
   ],
   "source": [
    "df_stream = pd.read_csv('streaming_data.csv')\n",
    "df = df_stream[['Time','Temperature','Humidity']]\n",
    "df.sample(5)"
   ]
  },
  {
   "cell_type": "code",
   "execution_count": 86,
   "metadata": {
    "scrolled": true
   },
   "outputs": [
    {
     "name": "stdout",
     "output_type": "stream",
     "text": [
      "<class 'pandas.core.frame.DataFrame'>\n",
      "RangeIndex: 1836 entries, 0 to 1835\n",
      "Data columns (total 3 columns):\n",
      "Time           1836 non-null float64\n",
      "Temperature    1836 non-null float64\n",
      "Humidity       1836 non-null float64\n",
      "dtypes: float64(3)\n",
      "memory usage: 43.2 KB\n"
     ]
    }
   ],
   "source": [
    "df.info()"
   ]
  },
  {
   "cell_type": "code",
   "execution_count": 27,
   "metadata": {},
   "outputs": [
    {
     "data": {
      "image/png": "[encoded data removed]",
      "text/plain": [
       "<Figure size 432x288 with 1 Axes>"
      ]
     },
     "metadata": {
      "needs_background": "light"
     },
     "output_type": "display_data"
    }
   ],
   "source": [
    "# Autocorrelation Plot: plots autocorrelation for a large # of lags in time series\n",
    "autocorrelation_plot(df)\n",
    "plt.show()"
   ]
  },
  {
   "cell_type": "markdown",
   "metadata": {},
   "source": [
    "Positive correaltion with the first 1500 lags, a good starting point for the AR parameter of the mode may be 500"
   ]
  },
  {
   "cell_type": "markdown",
   "metadata": {},
   "source": [
    "## ARIMA Model\n",
    "\n",
    "- Used to analyze and forecast time series data:\n",
    "\n",
    "    **AR**: Autoregression. A model that uses the dependent relationship \n",
    "between an observation and some number of lagged observations.\n",
    "\n",
    "    **I**: Integrated. The use of differencing of raw observations (e.g. subtracting an observation from an observation at the previous time step) in order to make the time series stationary.\n",
    "    \n",
    "    **MA**: Moving Average. A model that uses the dependency between an observation and a residual error from a moving average model applied to lagged observations.\n",
    "\n",
    "\n",
    "References\n",
    "- How to Make Out-of-Sample Forecasts with ARIMA in Python:\n",
    "https://machinelearningmastery.com/make-sample-forecasts-arima-python/\n",
    "\n",
    "- ARIMA for Time Series\n",
    "https://machinelearningmastery.com/arima-for-time-series-forecasting-with-python/"
   ]
  },
  {
   "cell_type": "markdown",
   "metadata": {},
   "source": [
    "## Only using the temperature feature"
   ]
  },
  {
   "cell_type": "markdown",
   "metadata": {},
   "source": [
    "Take out the last 25 samples to use as validation of model"
   ]
  },
  {
   "cell_type": "code",
   "execution_count": 113,
   "metadata": {},
   "outputs": [
    {
     "name": "stdout",
     "output_type": "stream",
     "text": [
      "Train Dataset 1811, Validation 25\n"
     ]
    }
   ],
   "source": [
    "num_sample = 25\n",
    "split_point = len(df['Temperature']) - num_sample\n",
    "dataset, validation = df['Temperature'][0:split_point], df['Temperature'][split_point:]\n",
    "print('Train Dataset %d, Validation %d' % (len(dataset), len(validation)))"
   ]
  },
  {
   "cell_type": "code",
   "execution_count": 114,
   "metadata": {},
   "outputs": [
    {
     "name": "stdout",
     "output_type": "stream",
     "text": [
      "                              ARMA Model Results                              \n",
      "==============================================================================\n",
      "Dep. Variable:                      y   No. Observations:                 1811\n",
      "Model:                    ARMA(10, 1)   Log Likelihood                3330.143\n",
      "Method:                       css-mle   S.D. of innovations              0.038\n",
      "Date:                Fri, 27 Nov 2020   AIC                          -6634.285\n",
      "Time:                        15:04:30   BIC                          -6562.764\n",
      "Sample:                             0   HQIC                         -6607.892\n",
      "                                                                              \n",
      "==============================================================================\n",
      "                 coef    std err          z      P>|z|      [0.025      0.975]\n",
      "------------------------------------------------------------------------------\n",
      "const         20.7219      0.090    231.022      0.000      20.546      20.898\n",
      "ar.L1.y        0.1199      0.027      4.495      0.000       0.068       0.172\n",
      "ar.L2.y        0.1149      0.027      4.302      0.000       0.063       0.167\n",
      "ar.L3.y        0.1076      0.026      4.142      0.000       0.057       0.158\n",
      "ar.L4.y        0.0507      0.026      1.949      0.051      -0.000       0.102\n",
      "ar.L5.y        0.1061      0.026      4.145      0.000       0.056       0.156\n",
      "ar.L6.y        0.0820      0.026      3.206      0.001       0.032       0.132\n",
      "ar.L7.y        0.0991      0.025      3.944      0.000       0.050       0.148\n",
      "ar.L8.y        0.0485      0.025      1.930      0.054      -0.001       0.098\n",
      "ar.L9.y        0.1024      0.025      4.124      0.000       0.054       0.151\n",
      "ar.L10.y       0.1517      0.025      6.110      0.000       0.103       0.200\n",
      "ma.L1.y        0.9355      0.012     77.218      0.000       0.912       0.959\n",
      "                                    Roots                                     \n",
      "==============================================================================\n",
      "                   Real          Imaginary           Modulus         Frequency\n",
      "------------------------------------------------------------------------------\n",
      "AR.1             1.0032           -0.0000j            1.0032           -0.0000\n",
      "AR.2             0.9329           -0.7452j            1.1941           -0.1073\n",
      "AR.3             0.9329           +0.7452j            1.1941            0.1073\n",
      "AR.4             0.3540           -1.1691j            1.2215           -0.2032\n",
      "AR.5             0.3540           +1.1691j            1.2215            0.2032\n",
      "AR.6            -0.4300           -1.1499j            1.2276           -0.3070\n",
      "AR.7            -0.4300           +1.1499j            1.2276            0.3070\n",
      "AR.8            -1.0310           -0.6918j            1.2416           -0.4059\n",
      "AR.9            -1.0310           +0.6918j            1.2416            0.4059\n",
      "AR.10           -1.3299           -0.0000j            1.3299           -0.5000\n",
      "MA.1            -1.0690           +0.0000j            1.0690            0.5000\n",
      "------------------------------------------------------------------------------\n"
     ]
    }
   ],
   "source": [
    "X = dataset.values\n",
    "model = ARIMA(X, order=(10,0,1))\n",
    "model_fit = model.fit(disp=0)\n",
    "print(model_fit.summary())"
   ]
  },
  {
   "cell_type": "code",
   "execution_count": 115,
   "metadata": {},
   "outputs": [
    {
     "data": {
      "image/png": "[encoded data removed]",
      "text/plain": [
       "<Figure size 432x288 with 1 Axes>"
      ]
     },
     "metadata": {
      "needs_background": "light"
     },
     "output_type": "display_data"
    },
    {
     "data": {
      "image/png": "[encoded data removed]",
      "text/plain": [
       "<Figure size 432x288 with 1 Axes>"
      ]
     },
     "metadata": {
      "needs_background": "light"
     },
     "output_type": "display_data"
    },
    {
     "name": "stdout",
     "output_type": "stream",
     "text": [
      "                 0\n",
      "count  1811.000000\n",
      "mean     -0.000949\n",
      "std       0.039392\n",
      "min      -0.197095\n",
      "25%      -0.009585\n",
      "50%       0.000255\n",
      "75%       0.009823\n",
      "max       0.378096\n"
     ]
    }
   ],
   "source": [
    "# plot residual errors\n",
    "residuals = pd.DataFrame(model_fit.resid)\n",
    "residuals.plot()\n",
    "plt.title(\"Residual Errors\")\n",
    "plt.show()\n",
    "residuals.plot(kind='kde')\n",
    "plt.title(\"Density Plot\")\n",
    "plt.show()\n",
    "print(residuals.describe())"
   ]
  },
  {
   "cell_type": "markdown",
   "metadata": {},
   "source": [
    "## One-step Out-of-Sample Forecast\n",
    "\n",
    "A forecast of the very next time step in the sequence from the available data used to fit the model."
   ]
  },
  {
   "cell_type": "code",
   "execution_count": 116,
   "metadata": {},
   "outputs": [
    {
     "name": "stdout",
     "output_type": "stream",
     "text": [
      "Forecast: 20.702878\n"
     ]
    }
   ],
   "source": [
    "forecast = model_fit.forecast()[0]\n",
    "print('Forecast: %f' % forecast)"
   ]
  },
  {
   "cell_type": "markdown",
   "metadata": {},
   "source": [
    "Prediction on the next time increment after the last data row in the model dataset (i.e. train). It should be similar to the first row of the validation dataset."
   ]
  },
  {
   "cell_type": "code",
   "execution_count": 117,
   "metadata": {},
   "outputs": [
    {
     "data": {
      "text/plain": [
       "20.7"
      ]
     },
     "execution_count": 117,
     "metadata": {},
     "output_type": "execute_result"
    }
   ],
   "source": [
    "validation.values[0]"
   ]
  },
  {
   "cell_type": "code",
   "execution_count": 129,
   "metadata": {
    "scrolled": true
   },
   "outputs": [
    {
     "name": "stdout",
     "output_type": "stream",
     "text": [
      "predicted=20.702878, expected=20.700000\n",
      "predicted=20.610117, expected=20.700000\n",
      "predicted=20.610238, expected=20.700000\n",
      "predicted=20.601833, expected=20.600000\n",
      "predicted=20.602308, expected=20.600000\n",
      "predicted=20.608584, expected=20.600000\n",
      "predicted=20.608473, expected=20.600000\n",
      "predicted=20.596018, expected=20.600000\n",
      "predicted=20.605750, expected=20.600000\n",
      "predicted=20.631296, expected=20.600000\n",
      "predicted=20.624950, expected=20.600000\n",
      "predicted=20.613627, expected=20.600000\n",
      "predicted=20.613254, expected=20.600000\n",
      "predicted=20.611598, expected=20.600000\n",
      "predicted=20.612799, expected=20.600000\n",
      "predicted=20.614864, expected=20.600000\n",
      "predicted=20.615042, expected=20.600000\n",
      "predicted=20.614093, expected=20.600000\n",
      "predicted=20.616738, expected=20.600000\n",
      "predicted=20.619700, expected=20.600000\n",
      "predicted=20.618280, expected=20.600000\n",
      "predicted=20.617158, expected=20.700000\n",
      "predicted=20.617264, expected=20.700000\n",
      "predicted=20.617337, expected=20.600000\n",
      "predicted=20.618005, expected=20.600000\n"
     ]
    }
   ],
   "source": [
    "# Multi-step out-of-sample forecast\n",
    "predictions = model_fit.forecast(steps=num_sample)[0]\n",
    "mult_len = len(predictions)\n",
    "obs = validation.values[:mult_len]\n",
    "for i in range(mult_len):\n",
    "    print('predicted=%f, expected=%f' % (predictions[i], obs[i]))"
   ]
  },
  {
   "cell_type": "code",
   "execution_count": 130,
   "metadata": {},
   "outputs": [
    {
     "name": "stdout",
     "output_type": "stream",
     "text": [
      "Test MSE: 0.001\n"
     ]
    },
    {
     "data": {
      "image/png": "[encoded data removed]",
      "text/plain": [
       "<Figure size 432x288 with 1 Axes>"
      ]
     },
     "metadata": {
      "needs_background": "light"
     },
     "output_type": "display_data"
    }
   ],
   "source": [
    "error = mean_squared_error(obs, predictions)\n",
    "print('Test MSE: %.3f' % error)\n",
    "plt.plot(obs,label='Observation')\n",
    "plt.plot(predictions, color='red', label='Prediction')\n",
    "plt.legend()\n",
    "plt.show()"
   ]
  },
  {
   "cell_type": "markdown",
   "metadata": {},
   "source": [
    "## More to do: use Box-Jenkins Methodology to find optimal parameters for ARIMA model\n",
    "* https://machinelearningmastery.com/grid-search-arima-hyperparameters-with-python/"
   ]
  },
  {
   "cell_type": "markdown",
   "metadata": {},
   "source": [
    "## ARIMA on Humidity"
   ]
  },
  {
   "cell_type": "code",
   "execution_count": 136,
   "metadata": {},
   "outputs": [
    {
     "name": "stdout",
     "output_type": "stream",
     "text": [
      "Train Dataset 1811, Validation 25\n"
     ]
    }
   ],
   "source": [
    "num_sample = 25\n",
    "split_point = len(df['Humidity']) - num_sample\n",
    "dataset, validation = df['Humidity'][0:split_point], df['Humidity'][split_point:]\n",
    "print('Train Dataset %d, Validation %d' % (len(dataset), len(validation)))"
   ]
  },
  {
   "cell_type": "code",
   "execution_count": 137,
   "metadata": {},
   "outputs": [
    {
     "name": "stdout",
     "output_type": "stream",
     "text": [
      "                              ARMA Model Results                              \n",
      "==============================================================================\n",
      "Dep. Variable:                      y   No. Observations:                 1811\n",
      "Model:                    ARMA(10, 1)   Log Likelihood                1734.294\n",
      "Method:                       css-mle   S.D. of innovations              0.093\n",
      "Date:                Fri, 27 Nov 2020   AIC                          -3442.587\n",
      "Time:                        15:07:27   BIC                          -3371.066\n",
      "Sample:                             0   HQIC                         -3416.194\n",
      "                                                                              \n",
      "==============================================================================\n",
      "                 coef    std err          z      P>|z|      [0.025      0.975]\n",
      "------------------------------------------------------------------------------\n",
      "const         75.1311      0.071   1060.328      0.000      74.992      75.270\n",
      "ar.L1.y        0.0357      0.024      1.503      0.133      -0.011       0.082\n",
      "ar.L2.y        1.0076      0.024     42.413      0.000       0.961       1.054\n",
      "ar.L3.y       -0.0035      0.033     -0.105      0.916      -0.069       0.062\n",
      "ar.L4.y        0.0167      0.033      0.502      0.616      -0.049       0.082\n",
      "ar.L5.y       -0.0059      0.033     -0.176      0.860      -0.071       0.059\n",
      "ar.L6.y       -0.0559      0.033     -1.680      0.093      -0.121       0.009\n",
      "ar.L7.y       -0.0032      0.033     -0.095      0.924      -0.068       0.062\n",
      "ar.L8.y        0.0095      0.033      0.285      0.776      -0.056       0.075\n",
      "ar.L9.y        0.0297      0.024      1.257      0.209      -0.017       0.076\n",
      "ar.L10.y      -0.0911      0.024     -3.852      0.000      -0.138      -0.045\n",
      "ma.L1.y        0.9812      0.004    221.062      0.000       0.972       0.990\n",
      "                                    Roots                                     \n",
      "==============================================================================\n",
      "                   Real          Imaginary           Modulus         Frequency\n",
      "------------------------------------------------------------------------------\n",
      "AR.1            -1.0823           -0.1342j            1.0906           -0.4804\n",
      "AR.2            -1.0823           +0.1342j            1.0906            0.4804\n",
      "AR.3            -0.9021           -1.0421j            1.3783           -0.3636\n",
      "AR.4            -0.9021           +1.0421j            1.3783            0.3636\n",
      "AR.5             0.0361           -1.3806j            1.3811           -0.2458\n",
      "AR.6             0.0361           +1.3806j            1.3811            0.2458\n",
      "AR.7             1.0641           -0.0000j            1.0641           -0.0000\n",
      "AR.8             1.1682           -0.0000j            1.1682           -0.0000\n",
      "AR.9             0.9952           -1.0285j            1.4312           -0.1276\n",
      "AR.10            0.9952           +1.0285j            1.4312            0.1276\n",
      "MA.1            -1.0192           +0.0000j            1.0192            0.5000\n",
      "------------------------------------------------------------------------------\n"
     ]
    }
   ],
   "source": [
    "X = dataset.values\n",
    "model = ARIMA(X, order=(10,0,1))\n",
    "model_fit = model.fit(disp=0)\n",
    "print(model_fit.summary())"
   ]
  },
  {
   "cell_type": "code",
   "execution_count": 138,
   "metadata": {},
   "outputs": [
    {
     "data": {
      "image/png": "[encoded data removed]",
      "text/plain": [
       "<Figure size 432x288 with 1 Axes>"
      ]
     },
     "metadata": {
      "needs_background": "light"
     },
     "output_type": "display_data"
    },
    {
     "data": {
      "image/png": "[encoded data removed]",
      "text/plain": [
       "<Figure size 432x288 with 1 Axes>"
      ]
     },
     "metadata": {
      "needs_background": "light"
     },
     "output_type": "display_data"
    },
    {
     "name": "stdout",
     "output_type": "stream",
     "text": [
      "                 0\n",
      "count  1811.000000\n",
      "mean      0.000247\n",
      "std       0.100119\n",
      "min      -1.631066\n",
      "25%      -0.025791\n",
      "50%       0.001759\n",
      "75%       0.021432\n",
      "max       0.433437\n"
     ]
    }
   ],
   "source": [
    "# plot residual errors\n",
    "residuals = pd.DataFrame(model_fit.resid)\n",
    "residuals.plot()\n",
    "plt.title(\"Residual Errors\")\n",
    "plt.show()\n",
    "residuals.plot(kind='kde')\n",
    "plt.title(\"Density Plot\")\n",
    "plt.show()\n",
    "print(residuals.describe())"
   ]
  },
  {
   "cell_type": "code",
   "execution_count": 139,
   "metadata": {
    "scrolled": true
   },
   "outputs": [
    {
     "name": "stdout",
     "output_type": "stream",
     "text": [
      "predicted=75.521634, expected=75.500000\n",
      "predicted=75.471046, expected=75.600000\n",
      "predicted=75.488300, expected=75.600000\n",
      "predicted=75.454244, expected=75.500000\n",
      "predicted=75.470681, expected=75.500000\n",
      "predicted=75.429381, expected=75.500000\n",
      "predicted=75.440673, expected=75.500000\n",
      "predicted=75.411556, expected=75.200000\n",
      "predicted=75.424887, expected=75.200000\n",
      "predicted=75.388098, expected=74.900000\n",
      "predicted=75.396628, expected=74.900000\n",
      "predicted=75.366321, expected=74.800000\n",
      "predicted=75.371426, expected=74.800000\n",
      "predicted=75.345142, expected=74.800000\n",
      "predicted=75.346540, expected=74.800000\n",
      "predicted=75.325369, expected=74.800000\n",
      "predicted=75.324249, expected=74.800000\n",
      "predicted=75.306772, expected=74.800000\n",
      "predicted=75.302853, expected=74.800000\n",
      "predicted=75.289518, expected=74.800000\n",
      "predicted=75.283635, expected=74.800000\n",
      "predicted=75.273560, expected=75.000000\n",
      "predicted=75.266253, expected=75.000000\n",
      "predicted=75.258878, expected=74.900000\n",
      "predicted=75.250775, expected=74.900000\n"
     ]
    }
   ],
   "source": [
    "# Multi-step out-of-sample forecast\n",
    "predictions = model_fit.forecast(steps=num_sample)[0]\n",
    "mult_len = len(predictions)\n",
    "obs = validation.values[:mult_len]\n",
    "for i in range(mult_len):\n",
    "    print('predicted=%f, expected=%f' % (predictions[i], obs[i]))"
   ]
  },
  {
   "cell_type": "code",
   "execution_count": 140,
   "metadata": {},
   "outputs": [
    {
     "name": "stdout",
     "output_type": "stream",
     "text": [
      "Test MSE: 0.152\n"
     ]
    },
    {
     "data": {
      "image/png": "[encoded data removed]",
      "text/plain": [
       "<Figure size 432x288 with 1 Axes>"
      ]
     },
     "metadata": {
      "needs_background": "light"
     },
     "output_type": "display_data"
    }
   ],
   "source": [
    "error = mean_squared_error(obs, predictions)\n",
    "print('Test MSE: %.3f' % error)\n",
    "plt.plot(obs,label='Observation')\n",
    "plt.plot(predictions, color='red', label='Prediction')\n",
    "plt.legend()\n",
    "plt.show()"
   ]
  }
 ],
 "metadata": {
  "kernelspec": {
   "display_name": "Python 3",
   "language": "python",
   "name": "python3"
  },
  "language_info": {
   "codemirror_mode": {
    "name": "ipython",
    "version": 3
   },
   "file_extension": ".py",
   "mimetype": "text/x-python",
   "name": "python",
   "nbconvert_exporter": "python",
   "pygments_lexer": "ipython3",
   "version": "3.7.1"
  }
 },
 "nbformat": 4,
 "nbformat_minor": 2
}
