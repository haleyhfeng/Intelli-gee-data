{
 "cells": [
  {
   "cell_type": "code",
   "execution_count": 10,
   "metadata": {},
   "outputs": [],
   "source": [
    "import numpy as np\n",
    "import pandas as pd\n",
    "import matplotlib.pyplot as plt\n",
    "from statsmodels.tsa.stattools import adfuller\n",
    "import pandas as pd\n",
    "import csv\n",
    "%matplotlib inline"
   ]
  },
  {
   "cell_type": "code",
   "execution_count": 8,
   "metadata": {},
   "outputs": [
    {
     "data": {
      "text/html": [
       "<div>\n",
       "<style scoped>\n",
       "    .dataframe tbody tr th:only-of-type {\n",
       "        vertical-align: middle;\n",
       "    }\n",
       "\n",
       "    .dataframe tbody tr th {\n",
       "        vertical-align: top;\n",
       "    }\n",
       "\n",
       "    .dataframe thead th {\n",
       "        text-align: right;\n",
       "    }\n",
       "</style>\n",
       "<table border=\"1\" class=\"dataframe\">\n",
       "  <thead>\n",
       "    <tr style=\"text-align: right;\">\n",
       "      <th></th>\n",
       "      <th>Device ID</th>\n",
       "      <th>Time</th>\n",
       "      <th>Temperature</th>\n",
       "      <th>Humidity</th>\n",
       "      <th>Temperature_ma</th>\n",
       "      <th>Humidity_ma</th>\n",
       "    </tr>\n",
       "  </thead>\n",
       "  <tbody>\n",
       "    <tr>\n",
       "      <th>902</th>\n",
       "      <td>\"inTelli-Gee_prototype_v0.1_serial_1\"</td>\n",
       "      <td>1100.0</td>\n",
       "      <td>20.6</td>\n",
       "      <td>75.3</td>\n",
       "      <td>20.628000</td>\n",
       "      <td>75.396333</td>\n",
       "    </tr>\n",
       "    <tr>\n",
       "      <th>1209</th>\n",
       "      <td>\"inTelli-Gee_prototype_v0.1_serial_1\"</td>\n",
       "      <td>1407.0</td>\n",
       "      <td>20.6</td>\n",
       "      <td>75.5</td>\n",
       "      <td>20.608667</td>\n",
       "      <td>75.298667</td>\n",
       "    </tr>\n",
       "    <tr>\n",
       "      <th>1482</th>\n",
       "      <td>\"inTelli-Gee_prototype_v0.1_serial_1\"</td>\n",
       "      <td>1680.0</td>\n",
       "      <td>20.6</td>\n",
       "      <td>75.6</td>\n",
       "      <td>20.590000</td>\n",
       "      <td>75.311000</td>\n",
       "    </tr>\n",
       "    <tr>\n",
       "      <th>1797</th>\n",
       "      <td>\"inTelli-Gee_prototype_v0.1_serial_1\"</td>\n",
       "      <td>1995.0</td>\n",
       "      <td>20.7</td>\n",
       "      <td>75.4</td>\n",
       "      <td>20.584667</td>\n",
       "      <td>75.071333</td>\n",
       "    </tr>\n",
       "    <tr>\n",
       "      <th>91</th>\n",
       "      <td>\"inTelli-Gee_prototype_v0.1_serial_1\"</td>\n",
       "      <td>289.0</td>\n",
       "      <td>21.1</td>\n",
       "      <td>73.9</td>\n",
       "      <td>NaN</td>\n",
       "      <td>NaN</td>\n",
       "    </tr>\n",
       "  </tbody>\n",
       "</table>\n",
       "</div>"
      ],
      "text/plain": [
       "                                  Device ID    Time  Temperature  Humidity  \\\n",
       "902   \"inTelli-Gee_prototype_v0.1_serial_1\"  1100.0         20.6      75.3   \n",
       "1209  \"inTelli-Gee_prototype_v0.1_serial_1\"  1407.0         20.6      75.5   \n",
       "1482  \"inTelli-Gee_prototype_v0.1_serial_1\"  1680.0         20.6      75.6   \n",
       "1797  \"inTelli-Gee_prototype_v0.1_serial_1\"  1995.0         20.7      75.4   \n",
       "91    \"inTelli-Gee_prototype_v0.1_serial_1\"   289.0         21.1      73.9   \n",
       "\n",
       "      Temperature_ma  Humidity_ma  \n",
       "902        20.628000    75.396333  \n",
       "1209       20.608667    75.298667  \n",
       "1482       20.590000    75.311000  \n",
       "1797       20.584667    75.071333  \n",
       "91               NaN          NaN  "
      ]
     },
     "execution_count": 8,
     "metadata": {},
     "output_type": "execute_result"
    }
   ],
   "source": [
    "df_stream = pd.read_csv('streaming_data.csv')\n",
    "df_stream.sample(5)"
   ]
  },
  {
   "cell_type": "code",
   "execution_count": 9,
   "metadata": {},
   "outputs": [
    {
     "data": {
      "text/plain": [
       "(1836, 6)"
      ]
     },
     "execution_count": 9,
     "metadata": {},
     "output_type": "execute_result"
    }
   ],
   "source": [
    "df_stream.shape"
   ]
  },
  {
   "cell_type": "markdown",
   "metadata": {},
   "source": [
    "## ARIMA Model\n",
    "\n",
    "How to Make Out-of-Sample Forecasts with ARIMA in Python:\n",
    "https://machinelearningmastery.com/make-sample-forecasts-arima-python/\n",
    "\n",
    "ARIMA for Time Series\n",
    "https://machinelearningmastery.com/arima-for-time-series-forecasting-with-python/"
   ]
  },
  {
   "cell_type": "code",
   "execution_count": null,
   "metadata": {},
   "outputs": [],
   "source": []
  }
 ],
 "metadata": {
  "kernelspec": {
   "display_name": "Python 3",
   "language": "python",
   "name": "python3"
  },
  "language_info": {
   "codemirror_mode": {
    "name": "ipython",
    "version": 3
   },
   "file_extension": ".py",
   "mimetype": "text/x-python",
   "name": "python",
   "nbconvert_exporter": "python",
   "pygments_lexer": "ipython3",
   "version": "3.7.1"
  }
 },
 "nbformat": 4,
 "nbformat_minor": 2
}
